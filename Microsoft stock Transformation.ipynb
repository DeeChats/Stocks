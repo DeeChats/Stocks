{
 "cells": [
  {
   "cell_type": "code",
   "execution_count": 1,
   "id": "18c3689c",
   "metadata": {},
   "outputs": [],
   "source": [
    "#Importing Libraries\n",
    "import pandas as pd\n",
    "import numpy as np\n",
    "import matplotlib.pyplot as plt\n",
    "import statsmodels.api as sm\n",
    "from statsmodels.tsa.stattools import adfuller\n",
    "from numpy import log"
   ]
  },
  {
   "cell_type": "code",
   "execution_count": 2,
   "id": "9ebba8f6",
   "metadata": {},
   "outputs": [
    {
     "data": {
      "text/html": [
       "<div>\n",
       "<style scoped>\n",
       "    .dataframe tbody tr th:only-of-type {\n",
       "        vertical-align: middle;\n",
       "    }\n",
       "\n",
       "    .dataframe tbody tr th {\n",
       "        vertical-align: top;\n",
       "    }\n",
       "\n",
       "    .dataframe thead th {\n",
       "        text-align: right;\n",
       "    }\n",
       "</style>\n",
       "<table border=\"1\" class=\"dataframe\">\n",
       "  <thead>\n",
       "    <tr style=\"text-align: right;\">\n",
       "      <th></th>\n",
       "      <th>Date</th>\n",
       "      <th>Open</th>\n",
       "      <th>High</th>\n",
       "      <th>Low</th>\n",
       "      <th>Close</th>\n",
       "      <th>Volume</th>\n",
       "    </tr>\n",
       "  </thead>\n",
       "  <tbody>\n",
       "    <tr>\n",
       "      <th>0</th>\n",
       "      <td>4/1/2015 16:00:00</td>\n",
       "      <td>40.60</td>\n",
       "      <td>40.76</td>\n",
       "      <td>40.31</td>\n",
       "      <td>40.72</td>\n",
       "      <td>36865322</td>\n",
       "    </tr>\n",
       "    <tr>\n",
       "      <th>1</th>\n",
       "      <td>4/2/2015 16:00:00</td>\n",
       "      <td>40.66</td>\n",
       "      <td>40.74</td>\n",
       "      <td>40.12</td>\n",
       "      <td>40.29</td>\n",
       "      <td>37487476</td>\n",
       "    </tr>\n",
       "    <tr>\n",
       "      <th>2</th>\n",
       "      <td>4/6/2015 16:00:00</td>\n",
       "      <td>40.34</td>\n",
       "      <td>41.78</td>\n",
       "      <td>40.18</td>\n",
       "      <td>41.55</td>\n",
       "      <td>39223692</td>\n",
       "    </tr>\n",
       "    <tr>\n",
       "      <th>3</th>\n",
       "      <td>4/7/2015 16:00:00</td>\n",
       "      <td>41.61</td>\n",
       "      <td>41.91</td>\n",
       "      <td>41.31</td>\n",
       "      <td>41.53</td>\n",
       "      <td>28809375</td>\n",
       "    </tr>\n",
       "    <tr>\n",
       "      <th>4</th>\n",
       "      <td>4/8/2015 16:00:00</td>\n",
       "      <td>41.48</td>\n",
       "      <td>41.69</td>\n",
       "      <td>41.04</td>\n",
       "      <td>41.42</td>\n",
       "      <td>24753438</td>\n",
       "    </tr>\n",
       "    <tr>\n",
       "      <th>...</th>\n",
       "      <td>...</td>\n",
       "      <td>...</td>\n",
       "      <td>...</td>\n",
       "      <td>...</td>\n",
       "      <td>...</td>\n",
       "      <td>...</td>\n",
       "    </tr>\n",
       "    <tr>\n",
       "      <th>1506</th>\n",
       "      <td>3/25/2021 16:00:00</td>\n",
       "      <td>235.30</td>\n",
       "      <td>236.94</td>\n",
       "      <td>231.57</td>\n",
       "      <td>232.34</td>\n",
       "      <td>34061853</td>\n",
       "    </tr>\n",
       "    <tr>\n",
       "      <th>1507</th>\n",
       "      <td>3/26/2021 16:00:00</td>\n",
       "      <td>231.55</td>\n",
       "      <td>236.71</td>\n",
       "      <td>231.55</td>\n",
       "      <td>236.48</td>\n",
       "      <td>25479853</td>\n",
       "    </tr>\n",
       "    <tr>\n",
       "      <th>1508</th>\n",
       "      <td>3/29/2021 16:00:00</td>\n",
       "      <td>236.59</td>\n",
       "      <td>236.80</td>\n",
       "      <td>231.88</td>\n",
       "      <td>235.24</td>\n",
       "      <td>25227455</td>\n",
       "    </tr>\n",
       "    <tr>\n",
       "      <th>1509</th>\n",
       "      <td>3/30/2021 16:00:00</td>\n",
       "      <td>233.53</td>\n",
       "      <td>233.85</td>\n",
       "      <td>231.10</td>\n",
       "      <td>231.85</td>\n",
       "      <td>24792012</td>\n",
       "    </tr>\n",
       "    <tr>\n",
       "      <th>1510</th>\n",
       "      <td>3/31/2021 16:00:00</td>\n",
       "      <td>232.91</td>\n",
       "      <td>239.10</td>\n",
       "      <td>232.39</td>\n",
       "      <td>235.77</td>\n",
       "      <td>43623471</td>\n",
       "    </tr>\n",
       "  </tbody>\n",
       "</table>\n",
       "<p>1511 rows × 6 columns</p>\n",
       "</div>"
      ],
      "text/plain": [
       "                    Date    Open    High     Low   Close    Volume\n",
       "0      4/1/2015 16:00:00   40.60   40.76   40.31   40.72  36865322\n",
       "1      4/2/2015 16:00:00   40.66   40.74   40.12   40.29  37487476\n",
       "2      4/6/2015 16:00:00   40.34   41.78   40.18   41.55  39223692\n",
       "3      4/7/2015 16:00:00   41.61   41.91   41.31   41.53  28809375\n",
       "4      4/8/2015 16:00:00   41.48   41.69   41.04   41.42  24753438\n",
       "...                  ...     ...     ...     ...     ...       ...\n",
       "1506  3/25/2021 16:00:00  235.30  236.94  231.57  232.34  34061853\n",
       "1507  3/26/2021 16:00:00  231.55  236.71  231.55  236.48  25479853\n",
       "1508  3/29/2021 16:00:00  236.59  236.80  231.88  235.24  25227455\n",
       "1509  3/30/2021 16:00:00  233.53  233.85  231.10  231.85  24792012\n",
       "1510  3/31/2021 16:00:00  232.91  239.10  232.39  235.77  43623471\n",
       "\n",
       "[1511 rows x 6 columns]"
      ]
     },
     "execution_count": 2,
     "metadata": {},
     "output_type": "execute_result"
    }
   ],
   "source": [
    "#Importing Dataset\n",
    "data=pd.read_csv(\"C:/Users/deeks/Downloads/Microsoft_Stock.csv\")\n",
    "data"
   ]
  },
  {
   "cell_type": "code",
   "execution_count": 3,
   "id": "616a2e1f",
   "metadata": {},
   "outputs": [
    {
     "name": "stdout",
     "output_type": "stream",
     "text": [
      "AD Fuller Statistic: -0.128967\n",
      "p-value: 0.946476\n"
     ]
    },
    {
     "data": {
      "image/png": "[encoded data removed]",
      "text/plain": [
       "<Figure size 432x288 with 1 Axes>"
      ]
     },
     "metadata": {
      "needs_background": "light"
     },
     "output_type": "display_data"
    }
   ],
   "source": [
    "#Logarithmic Transformation\n",
    "X = np.log(data[\"Close\"])\n",
    "plt.plot(X)\n",
    "result = adfuller(X)\n",
    "print('AD Fuller Statistic: %f' % result[0])\n",
    "print('p-value: %f' % result[1])"
   ]
  },
  {
   "cell_type": "code",
   "execution_count": 4,
   "id": "bddf3ed8",
   "metadata": {},
   "outputs": [
    {
     "name": "stdout",
     "output_type": "stream",
     "text": [
      "ADF Statistic: -13.801078\n",
      "p-value: 0.000000\n"
     ]
    },
    {
     "data": {
      "image/png": "[encoded data removed]",
      "text/plain": [
       "<Figure size 432x288 with 1 Axes>"
      ]
     },
     "metadata": {
      "needs_background": "light"
     },
     "output_type": "display_data"
    }
   ],
   "source": [
    "#Power Transformation\n",
    "data['Close_log'] = np.log(data['Close'])\n",
    "data['Close_log_diff'] = data['Close_log'] - data['Close_log'].shift(1)\n",
    "data['Close_log_diff'].dropna().plot()\n",
    "result = adfuller(data['Close_log_diff'].dropna())\n",
    "print('ADF Statistic: %f' % result[0])\n",
    "print('p-value: %f' % result[1])"
   ]
  },
  {
   "cell_type": "code",
   "execution_count": null,
   "id": "60466fd1",
   "metadata": {},
   "outputs": [],
   "source": []
  }
 ],
 "metadata": {
  "kernelspec": {
   "display_name": "Python 3 (ipykernel)",
   "language": "python",
   "name": "python3"
  },
  "language_info": {
   "codemirror_mode": {
    "name": "ipython",
    "version": 3
   },
   "file_extension": ".py",
   "mimetype": "text/x-python",
   "name": "python",
   "nbconvert_exporter": "python",
   "pygments_lexer": "ipython3",
   "version": "3.9.7"
  }
 },
 "nbformat": 4,
 "nbformat_minor": 5
}
